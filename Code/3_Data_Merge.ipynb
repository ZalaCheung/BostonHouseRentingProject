{
 "cells": [
  {
   "cell_type": "markdown",
   "metadata": {},
   "source": [
    "## Project Code(Part3): Merge the Data\n",
    "\n",
    "This part of code is pretty simple. First I merge the data and for range of price, I get the average price for each house. Finally, I get the price per room for each house."
   ]
  },
  {
   "cell_type": "code",
   "execution_count": 5,
   "metadata": {
    "collapsed": false
   },
   "outputs": [],
   "source": [
    "import json\n",
    "import pandas as pd\n",
    "from re import sub\n",
    "from decimal import Decimal"
   ]
  },
  {
   "cell_type": "code",
   "execution_count": 7,
   "metadata": {
    "collapsed": true
   },
   "outputs": [],
   "source": [
    "filenames= []\n",
    "filenames.append('Data_Selenium/Data_Selenium/house_data_500.csv')\n",
    "filenames.append('Data_Selenium/Data_Selenium/house_data_500To1000.csv')\n",
    "filenames.append('Data_Selenium/Data_Selenium/house_data_1000To1500.csv')\n",
    "filenames.append('Data_Selenium/Data_Selenium/house_data_1500To2000.csv')\n",
    "filenames.append('Data_Selenium/Data_Selenium/house_data_2000To2500.csv')\n",
    "filenames.append('Data_Selenium/Data_Selenium/house_data_2500To3000.csv')\n",
    "filenames.append('Data_Selenium/Data_Selenium/house_data_3000To3500.csv')\n",
    "filenames.append('Data_Selenium/Data_Selenium/house_data_3500To4000.csv')\n",
    "filenames.append('Data_Selenium/Data_Selenium/house_data_4000To4500.csv')\n",
    "filenames.append('Data_Selenium/Data_Selenium/house_data_4500To5000.csv')\n",
    "filenames.append('Data_Selenium/Data_Selenium/house_data_5000To.csv')"
   ]
  },
  {
   "cell_type": "code",
   "execution_count": 14,
   "metadata": {
    "collapsed": false
   },
   "outputs": [],
   "source": [
    "df_list = []\n",
    "for i in range(11):\n",
    "    df_tmp = pd.read_csv(filenames[i],index_col=0,encoding ='latin1')\n",
    "    df_list.append(df_tmp)\n",
    "ret = pd.concat(df_list).reset_index()\n",
    "del ret['index']\n",
    "ret.to_csv('Data_Selenium/house_renting_dataset_Merge.csv')"
   ]
  },
  {
   "cell_type": "code",
   "execution_count": 6,
   "metadata": {
    "collapsed": false
   },
   "outputs": [],
   "source": [
    "df = pd.read_csv('Data_Selenium/house_renting_dataset_Merge.csv',index_col=0)"
   ]
  },
  {
   "cell_type": "code",
   "execution_count": 7,
   "metadata": {
    "collapsed": true
   },
   "outputs": [],
   "source": [
    "df = df[df.Price != ' Contact for price']"
   ]
  },
  {
   "cell_type": "code",
   "execution_count": 8,
   "metadata": {
    "collapsed": true
   },
   "outputs": [],
   "source": [
    "p = df['Price'].tolist()"
   ]
  },
  {
   "cell_type": "code",
   "execution_count": 9,
   "metadata": {
    "collapsed": false
   },
   "outputs": [],
   "source": [
    "\"\"\"Test Code\n",
    "\"\"\"\n",
    "money1 = p[0].replace(' ','').split('\\x96')[0]\n",
    "money2 = p[0].replace(' ','').split('\\x96')[1]\n",
    "value1 = Decimal(sub(r'[^\\d.]', '', money1))\n",
    "value2 = Decimal(sub(r'[^\\d.]', '', money2))"
   ]
  },
  {
   "cell_type": "code",
   "execution_count": 19,
   "metadata": {
    "collapsed": false
   },
   "outputs": [],
   "source": [
    "'''\n",
    "Get the average score of the renting house/apartment\n",
    "'''\n",
    "price_avg = []\n",
    "count = 0\n",
    "for s in p:\n",
    "    count += 1\n",
    "    s = s.replace(' ','')\n",
    "    if '\\x96' in s:\n",
    "        v1 = int(Decimal(sub(r'[^\\d.]', '', s.split('\\x96')[0])))\n",
    "        v2 = int(Decimal(sub(r'[^\\d.]', '', s.split('\\x96')[1])))\n",
    "        price_avg.append((v1 + v2) / 2)\n",
    "    else:\n",
    "        price_avg.append(int(Decimal(sub(r'[^\\d.]', '', s))))"
   ]
  },
  {
   "cell_type": "code",
   "execution_count": 20,
   "metadata": {
    "collapsed": false,
    "scrolled": false
   },
   "outputs": [],
   "source": [
    "df['Avg_Price'] = price_avg"
   ]
  },
  {
   "cell_type": "code",
   "execution_count": 22,
   "metadata": {
    "collapsed": false
   },
   "outputs": [],
   "source": [
    "df['Price_per_room'] = df['Avg_Price'] / df['Bedrooms']"
   ]
  },
  {
   "cell_type": "code",
   "execution_count": 24,
   "metadata": {
    "collapsed": false
   },
   "outputs": [],
   "source": [
    "df.to_csv('Data_Selenium/house_renting_dataset_Merge2.csv')"
   ]
  }
 ],
 "metadata": {
  "anaconda-cloud": {},
  "kernelspec": {
   "display_name": "Python [Root]",
   "language": "python",
   "name": "Python [Root]"
  },
  "language_info": {
   "codemirror_mode": {
    "name": "ipython",
    "version": 3
   },
   "file_extension": ".py",
   "mimetype": "text/x-python",
   "name": "python",
   "nbconvert_exporter": "python",
   "pygments_lexer": "ipython3",
   "version": "3.5.2"
  }
 },
 "nbformat": 4,
 "nbformat_minor": 0
}
